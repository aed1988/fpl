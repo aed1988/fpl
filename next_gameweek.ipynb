{
 "cells": [
  {
   "cell_type": "code",
   "execution_count": 117,
   "metadata": {},
   "outputs": [],
   "source": [
    "from datetime import date, datetime\n",
    "\n",
    "import pandas as pd\n",
    "\n",
    "from definitions import PICKLE_DIR\n",
    "from api_utils import get_json_from_fpl_api\n",
    "from df_utils import get_next_gameweek"
   ]
  },
  {
   "cell_type": "code",
   "execution_count": 29,
   "metadata": {},
   "outputs": [
    {
     "data": {
      "text/plain": [
       "dict_keys(['events', 'game_settings', 'phases', 'teams', 'total_players', 'elements', 'element_stats', 'element_types'])"
      ]
     },
     "execution_count": 29,
     "metadata": {},
     "output_type": "execute_result"
    }
   ],
   "source": [
    "json = get_json_from_fpl_api('http://fantasy.premierleague.com/api/bootstrap-static/')\n",
    "json.keys()"
   ]
  },
  {
   "cell_type": "code",
   "execution_count": 94,
   "metadata": {},
   "outputs": [],
   "source": [
    "t = pd.DataFrame(json['events'])\n",
    "t = t[['id','name', 'deadline_time', 'deadline_time_epoch', 'finished', 'data_checked', 'is_current', 'is_previous', 'is_next']]\n",
    "t['deadline_time'] = t['deadline_time'].apply(lambda x: datetime.strptime(x, \"%Y-%m-%dT%H:%M:%SZ\"))\n",
    "t['date_updated'] = datetime.now().strftime('%Y-%m-%d %H:%M:%S')\n",
    "t = t.set_index('id')\n",
    "\n",
    "t.to_pickle(f\"{PICKLE_DIR}/gw.pickle\")"
   ]
  },
  {
   "cell_type": "code",
   "execution_count": null,
   "metadata": {},
   "outputs": [],
   "source": [
    "next_gameweek = get_next_gameweek()\n",
    "next_gameweek_fixtures_json = (get_json_from_fpl_api(f\"http://fantasy.premierleague.com/api/fixtures/?event={next_gameweek}\"))\n",
    "next_gameweek_fixtures_df = pd.DataFrame(next_gameweek_fixtures_json)\n",
    "next_gameweek_fixtures_df\n"
   ]
  },
  {
   "cell_type": "code",
   "execution_count": 180,
   "metadata": {},
   "outputs": [
    {
     "data": {
      "text/html": [
       "<div>\n",
       "<style scoped>\n",
       "    .dataframe tbody tr th:only-of-type {\n",
       "        vertical-align: middle;\n",
       "    }\n",
       "\n",
       "    .dataframe tbody tr th {\n",
       "        vertical-align: top;\n",
       "    }\n",
       "\n",
       "    .dataframe thead th {\n",
       "        text-align: right;\n",
       "    }\n",
       "</style>\n",
       "<table border=\"1\" class=\"dataframe\">\n",
       "  <thead>\n",
       "    <tr style=\"text-align: right;\">\n",
       "      <th></th>\n",
       "      <th>day</th>\n",
       "      <th>time</th>\n",
       "      <th>home_team</th>\n",
       "      <th>team_h_difficulty</th>\n",
       "      <th>away_team</th>\n",
       "      <th>team_a_difficulty</th>\n",
       "    </tr>\n",
       "  </thead>\n",
       "  <tbody>\n",
       "    <tr>\n",
       "      <th>0</th>\n",
       "      <td>Saturday</td>\n",
       "      <td>12:30</td>\n",
       "      <td>Man City</td>\n",
       "      <td>3</td>\n",
       "      <td>Newcastle</td>\n",
       "      <td>5</td>\n",
       "    </tr>\n",
       "    <tr>\n",
       "      <th>1</th>\n",
       "      <td>Saturday</td>\n",
       "      <td>15:00</td>\n",
       "      <td>Arsenal</td>\n",
       "      <td>2</td>\n",
       "      <td>Bournemouth</td>\n",
       "      <td>4</td>\n",
       "    </tr>\n",
       "    <tr>\n",
       "      <th>2</th>\n",
       "      <td>Saturday</td>\n",
       "      <td>15:00</td>\n",
       "      <td>Aston Villa</td>\n",
       "      <td>2</td>\n",
       "      <td>Crystal Palace</td>\n",
       "      <td>2</td>\n",
       "    </tr>\n",
       "    <tr>\n",
       "      <th>3</th>\n",
       "      <td>Saturday</td>\n",
       "      <td>15:00</td>\n",
       "      <td>Brighton</td>\n",
       "      <td>2</td>\n",
       "      <td>West Ham</td>\n",
       "      <td>3</td>\n",
       "    </tr>\n",
       "    <tr>\n",
       "      <th>4</th>\n",
       "      <td>Saturday</td>\n",
       "      <td>15:00</td>\n",
       "      <td>Chelsea</td>\n",
       "      <td>2</td>\n",
       "      <td>Leeds</td>\n",
       "      <td>4</td>\n",
       "    </tr>\n",
       "    <tr>\n",
       "      <th>5</th>\n",
       "      <td>Saturday</td>\n",
       "      <td>15:00</td>\n",
       "      <td>Wolves</td>\n",
       "      <td>3</td>\n",
       "      <td>Spurs</td>\n",
       "      <td>2</td>\n",
       "    </tr>\n",
       "    <tr>\n",
       "      <th>6</th>\n",
       "      <td>Saturday</td>\n",
       "      <td>17:30</td>\n",
       "      <td>Southampton</td>\n",
       "      <td>3</td>\n",
       "      <td>Leicester</td>\n",
       "      <td>2</td>\n",
       "    </tr>\n",
       "    <tr>\n",
       "      <th>7</th>\n",
       "      <td>Sunday</td>\n",
       "      <td>14:00</td>\n",
       "      <td>Nott'm Forest</td>\n",
       "      <td>2</td>\n",
       "      <td>Everton</td>\n",
       "      <td>2</td>\n",
       "    </tr>\n",
       "    <tr>\n",
       "      <th>8</th>\n",
       "      <td>Sunday</td>\n",
       "      <td>16:30</td>\n",
       "      <td>Liverpool</td>\n",
       "      <td>3</td>\n",
       "      <td>Man Utd</td>\n",
       "      <td>4</td>\n",
       "    </tr>\n",
       "    <tr>\n",
       "      <th>9</th>\n",
       "      <td>Monday</td>\n",
       "      <td>20:00</td>\n",
       "      <td>Brentford</td>\n",
       "      <td>2</td>\n",
       "      <td>Fulham</td>\n",
       "      <td>3</td>\n",
       "    </tr>\n",
       "  </tbody>\n",
       "</table>\n",
       "</div>"
      ],
      "text/plain": [
       "        day   time      home_team  team_h_difficulty       away_team  \\\n",
       "0  Saturday  12:30       Man City                  3       Newcastle   \n",
       "1  Saturday  15:00        Arsenal                  2     Bournemouth   \n",
       "2  Saturday  15:00    Aston Villa                  2  Crystal Palace   \n",
       "3  Saturday  15:00       Brighton                  2        West Ham   \n",
       "4  Saturday  15:00        Chelsea                  2           Leeds   \n",
       "5  Saturday  15:00         Wolves                  3           Spurs   \n",
       "6  Saturday  17:30    Southampton                  3       Leicester   \n",
       "7    Sunday  14:00  Nott'm Forest                  2         Everton   \n",
       "8    Sunday  16:30      Liverpool                  3         Man Utd   \n",
       "9    Monday  20:00      Brentford                  2          Fulham   \n",
       "\n",
       "   team_a_difficulty  \n",
       "0                  5  \n",
       "1                  4  \n",
       "2                  2  \n",
       "3                  3  \n",
       "4                  4  \n",
       "5                  2  \n",
       "6                  2  \n",
       "7                  2  \n",
       "8                  4  \n",
       "9                  3  "
      ]
     },
     "execution_count": 180,
     "metadata": {},
     "output_type": "execute_result"
    }
   ],
   "source": [
    "df = next_gameweek_fixtures_df.merge(teams_df, left_on = 'team_h', right_on='fpl_team_id')\\\n",
    "  .rename(columns={'name': 'home_team', 'short_name': 'home_short_name'})\\\n",
    "    .merge(teams_df, left_on = 'team_a', right_on='fpl_team_id')\\\n",
    "    .rename(columns={'name': 'away_team', 'short_name': 'away_short_name'})\\\n",
    "      .sort_values(by='kickoff_time')\n",
    "\n",
    "df['kickoff_time'] = df['kickoff_time'].apply( lambda x: datetime.strptime(x, '%Y-%m-%dT%H:%M:%SZ'))\n",
    "df['day'] = df['kickoff_time'].apply(lambda x: datetime.strftime(x, '%A'))\n",
    "df['time'] = df['kickoff_time'].apply(lambda x: datetime.strftime(x, '%H:%M'))\n",
    "df = df[['day', 'time', 'home_team', 'team_h_difficulty', 'away_team', 'team_a_difficulty']]\n",
    "df\n"
   ]
  }
 ],
 "metadata": {
  "kernelspec": {
   "display_name": "base",
   "language": "python",
   "name": "python3"
  },
  "language_info": {
   "codemirror_mode": {
    "name": "ipython",
    "version": 3
   },
   "file_extension": ".py",
   "mimetype": "text/x-python",
   "name": "python",
   "nbconvert_exporter": "python",
   "pygments_lexer": "ipython3",
   "version": "3.9.5"
  },
  "orig_nbformat": 4,
  "vscode": {
   "interpreter": {
    "hash": "c30f2af5f468e7f5b45bcc30fca5f4886c90d54777aed916ed5f6294dfb24bf2"
   }
  }
 },
 "nbformat": 4,
 "nbformat_minor": 2
}
