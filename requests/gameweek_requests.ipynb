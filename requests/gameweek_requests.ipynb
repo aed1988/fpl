{
 "cells": [
  {
   "cell_type": "code",
   "execution_count": 1,
   "metadata": {},
   "outputs": [],
   "source": [
    "import requests\n",
    "import sqlite3"
   ]
  },
  {
   "cell_type": "code",
   "execution_count": 2,
   "metadata": {},
   "outputs": [],
   "source": [
    "conn = sqlite3.connect('fpl.db')\n",
    "cursor = conn.cursor()"
   ]
  },
  {
   "cell_type": "code",
   "execution_count": 4,
   "metadata": {},
   "outputs": [
    {
     "name": "stdout",
     "output_type": "stream",
     "text": [
      "table already created\n"
     ]
    }
   ],
   "source": [
    "create_gameweek_table = '''\n",
    "  CREATE TABLE gameweek (\n",
    "    id INT PRIMARY KEY,\n",
    "    deadline TIMESTAMP,\n",
    "    year INT,\n",
    "    week_no INT\n",
    "  )\n",
    "'''\n",
    "\n",
    "try:\n",
    "  cursor.execute(create_gameweek_table)\n",
    "except:\n",
    "  print('table already created')"
   ]
  },
  {
   "cell_type": "markdown",
   "metadata": {},
   "source": [
    "create_gameweek_table = '''\n",
    "  CREATE TABLE gameweek (\n",
    "    id INT PRIMARY KEY,\n",
    "    deadline TIMESTAMP,\n",
    "    year INT,\n",
    "    week_no INT\n",
    "  )\n",
    "'''"
   ]
  },
  {
   "cell_type": "code",
   "execution_count": 5,
   "metadata": {},
   "outputs": [
    {
     "ename": "IntegrityError",
     "evalue": "UNIQUE constraint failed: gameweek.id",
     "output_type": "error",
     "traceback": [
      "\u001b[0;31m---------------------------------------------------------------------------\u001b[0m",
      "\u001b[0;31mIntegrityError\u001b[0m                            Traceback (most recent call last)",
      "Cell \u001b[0;32mIn[5], line 6\u001b[0m\n\u001b[1;32m      3\u001b[0m \u001b[39mfor\u001b[39;00m i \u001b[39min\u001b[39;00m req\u001b[39m.\u001b[39mjson()[\u001b[39m'\u001b[39m\u001b[39mevents\u001b[39m\u001b[39m'\u001b[39m]:\n\u001b[1;32m      4\u001b[0m   data\u001b[39m.\u001b[39mappend((i[\u001b[39m'\u001b[39m\u001b[39mid\u001b[39m\u001b[39m'\u001b[39m], i[\u001b[39m'\u001b[39m\u001b[39mdeadline_time\u001b[39m\u001b[39m'\u001b[39m], \u001b[39m2324\u001b[39m, \u001b[39mf\u001b[39m\u001b[39m\"\u001b[39m\u001b[39m{\u001b[39;00mi[\u001b[39m'\u001b[39m\u001b[39mid\u001b[39m\u001b[39m'\u001b[39m]\u001b[39m:\u001b[39;00m\u001b[39m02\u001b[39m\u001b[39m}\u001b[39;00m\u001b[39m\"\u001b[39m))\n\u001b[0;32m----> 6\u001b[0m cursor\u001b[39m.\u001b[39mexecutemany(\u001b[39m'''\u001b[39m\u001b[39mINSERT INTO gameweek VALUES (?, ?, ?, ?)\u001b[39m\u001b[39m'''\u001b[39m, data)\n\u001b[1;32m      7\u001b[0m conn\u001b[39m.\u001b[39mcommit()\n",
      "\u001b[0;31mIntegrityError\u001b[0m: UNIQUE constraint failed: gameweek.id"
     ]
    }
   ],
   "source": [
    "req = requests.get('https://fantasy.premierleague.com/api/bootstrap-static/')\n",
    "data = []\n",
    "for i in req.json()['events']:\n",
    "  data.append((i['id'], i['deadline_time'], 2324, f\"{i['id']:02}\"))\n",
    "  \n",
    "cursor.executemany('''INSERT INTO gameweek VALUES (?, ?, ?, ?)''', data)\n",
    "conn.commit()\n"
   ]
  },
  {
   "cell_type": "code",
   "execution_count": 6,
   "metadata": {},
   "outputs": [
    {
     "data": {
      "text/plain": [
       "[(1, '2023-08-11T17:30:00Z', 2324, 1),\n",
       " (2, '2023-08-18T17:15:00Z', 2324, 2),\n",
       " (3, '2023-08-25T17:30:00Z', 2324, 3),\n",
       " (4, '2023-09-01T17:30:00Z', 2324, 4),\n",
       " (5, '2023-09-16T10:00:00Z', 2324, 5),\n",
       " (6, '2023-09-23T12:30:00Z', 2324, 6),\n",
       " (7, '2023-09-30T10:00:00Z', 2324, 7),\n",
       " (8, '2023-10-07T10:00:00Z', 2324, 8),\n",
       " (9, '2023-10-21T10:00:00Z', 2324, 9),\n",
       " (10, '2023-10-27T17:30:00Z', 2324, 10),\n",
       " (11, '2023-11-04T11:00:00Z', 2324, 11),\n",
       " (12, '2023-11-11T11:00:00Z', 2324, 12),\n",
       " (13, '2023-11-25T13:30:00Z', 2324, 13),\n",
       " (14, '2023-12-02T13:30:00Z', 2324, 14),\n",
       " (15, '2023-12-05T18:15:00Z', 2324, 15),\n",
       " (16, '2023-12-09T13:30:00Z', 2324, 16),\n",
       " (17, '2023-12-16T13:30:00Z', 2324, 17),\n",
       " (18, '2023-12-23T13:30:00Z', 2324, 18),\n",
       " (19, '2023-12-26T13:30:00Z', 2324, 19),\n",
       " (20, '2023-12-30T13:30:00Z', 2324, 20),\n",
       " (21, '2024-01-13T13:30:00Z', 2324, 21),\n",
       " (22, '2024-01-30T18:15:00Z', 2324, 22),\n",
       " (23, '2024-02-03T13:30:00Z', 2324, 23),\n",
       " (24, '2024-02-10T13:30:00Z', 2324, 24),\n",
       " (25, '2024-02-17T13:30:00Z', 2324, 25),\n",
       " (26, '2024-02-24T13:30:00Z', 2324, 26),\n",
       " (27, '2024-03-02T13:30:00Z', 2324, 27),\n",
       " (28, '2024-03-09T13:30:00Z', 2324, 28),\n",
       " (29, '2024-03-16T13:30:00Z', 2324, 29),\n",
       " (30, '2024-03-30T13:30:00Z', 2324, 30),\n",
       " (31, '2024-04-02T17:15:00Z', 2324, 31),\n",
       " (32, '2024-04-06T12:30:00Z', 2324, 32),\n",
       " (33, '2024-04-13T12:30:00Z', 2324, 33),\n",
       " (34, '2024-04-20T12:30:00Z', 2324, 34),\n",
       " (35, '2024-04-27T12:30:00Z', 2324, 35),\n",
       " (36, '2024-05-04T12:30:00Z', 2324, 36),\n",
       " (37, '2024-05-11T12:30:00Z', 2324, 37),\n",
       " (38, '2024-05-19T13:30:00Z', 2324, 38)]"
      ]
     },
     "execution_count": 6,
     "metadata": {},
     "output_type": "execute_result"
    }
   ],
   "source": [
    "res = cursor.execute('''SELECT * FROM gameweek''')\n",
    "res.fetchall()"
   ]
  },
  {
   "cell_type": "code",
   "execution_count": 96,
   "metadata": {},
   "outputs": [],
   "source": [
    "conn.close()"
   ]
  }
 ],
 "metadata": {
  "kernelspec": {
   "display_name": "basic_env",
   "language": "python",
   "name": "python3"
  },
  "language_info": {
   "codemirror_mode": {
    "name": "ipython",
    "version": 3
   },
   "file_extension": ".py",
   "mimetype": "text/x-python",
   "name": "python",
   "nbconvert_exporter": "python",
   "pygments_lexer": "ipython3",
   "version": "3.11.4"
  },
  "orig_nbformat": 4
 },
 "nbformat": 4,
 "nbformat_minor": 2
}
