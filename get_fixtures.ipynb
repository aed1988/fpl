{
 "cells": [
  {
   "cell_type": "code",
   "execution_count": 1,
   "metadata": {},
   "outputs": [],
   "source": [
    "from Classes import Fixture\n",
    "import pandas as pd\n",
    "import time\n",
    "\n",
    "from definitions import CSV_DIR"
   ]
  },
  {
   "cell_type": "code",
   "execution_count": 2,
   "metadata": {},
   "outputs": [],
   "source": [
    "def get_next_fixtures(number) -> Fixture:\n",
    "    gameweek_df = pd.read_csv(f\"{CSV_DIR}/gameweek.csv\")\n",
    "    gameweek_df = gameweek_df[gameweek_df['deadline_time_epoch'] > time.time()]\n",
    "    next_gameweek_deadline = min(gameweek_df['deadline_time_epoch'])\n",
    "\n",
    "    fixtures_df = pd.read_csv(f\"{CSV_DIR}/fixtures.csv\", usecols=['fixture_id', 'timestamp', 'api_home_team_id', 'api_away_team_id'])\n",
    "    fixtures_df = fixtures_df[\n",
    "      (fixtures_df['timestamp'] > next_gameweek_deadline) &\n",
    "      ((fixtures_df['api_home_team_id'] == 42) | (fixtures_df['api_away_team_id'] == 42))\n",
    "    ]\n",
    "    fixtures_df.sort_values(by=['timestamp'])\n",
    "\n",
    "    print(fixtures_df.head())\n",
    "    for i in range(number):\n",
    "      next_fixture_id = fixtures_df.iloc[i - 1].fixture_id\n",
    "      print(next_fixture_id)\n",
    "      print(Fixture(next_fixture_id))"
   ]
  },
  {
   "cell_type": "code",
   "execution_count": 3,
   "metadata": {},
   "outputs": [
    {
     "name": "stdout",
     "output_type": "stream",
     "text": [
      "     fixture_id   timestamp  api_home_team_id  api_away_team_id\n",
      "235      710791  1644522300                39                42\n",
      "242      710798  1644678000                49                42\n",
      "250      710806  1645282800                42                55\n",
      "260      710816  1645887600                42                40\n",
      "278      710834  1646492400                38                42\n",
      "710926\n",
      "Arsenal VS. Everton.  KO: 2022-05-22 15:00:00\n",
      "710791\n",
      "Wolves VS. Arsenal.  KO: 2022-02-10 19:45:00\n",
      "710798\n",
      "Chelsea VS. Arsenal.  KO: 2022-02-12 15:00:00\n",
      "710806\n",
      "Arsenal VS. Brentford.  KO: 2022-02-19 15:00:00\n",
      "710816\n",
      "Arsenal VS. Liverpool.  KO: 2022-02-26 15:00:00\n"
     ]
    }
   ],
   "source": [
    "get_next_fixtures(5)"
   ]
  }
 ],
 "metadata": {
  "interpreter": {
   "hash": "c30f2af5f468e7f5b45bcc30fca5f4886c90d54777aed916ed5f6294dfb24bf2"
  },
  "kernelspec": {
   "display_name": "Python 3.8.5 64-bit ('base': conda)",
   "name": "python3"
  },
  "language_info": {
   "codemirror_mode": {
    "name": "ipython",
    "version": 3
   },
   "file_extension": ".py",
   "mimetype": "text/x-python",
   "name": "python",
   "nbconvert_exporter": "python",
   "pygments_lexer": "ipython3",
   "version": "3.9.5"
  },
  "orig_nbformat": 4
 },
 "nbformat": 4,
 "nbformat_minor": 2
}
