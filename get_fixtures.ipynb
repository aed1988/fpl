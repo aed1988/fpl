{
 "cells": [
  {
   "cell_type": "code",
   "execution_count": 8,
   "metadata": {},
   "outputs": [],
   "source": [
    "import requests\n",
    "import time\n",
    "import pandas as pd\n",
    "import os"
   ]
  },
  {
   "cell_type": "code",
   "execution_count": 26,
   "metadata": {},
   "outputs": [],
   "source": [
    "no_of_fixtures = 5"
   ]
  },
  {
   "cell_type": "code",
   "execution_count": 25,
   "metadata": {},
   "outputs": [
    {
     "name": "stdout",
     "output_type": "stream",
     "text": [
      "1636216614.941466\n"
     ]
    },
    {
     "data": {
      "text/html": [
       "<div>\n",
       "<style scoped>\n",
       "    .dataframe tbody tr th:only-of-type {\n",
       "        vertical-align: middle;\n",
       "    }\n",
       "\n",
       "    .dataframe tbody tr th {\n",
       "        vertical-align: top;\n",
       "    }\n",
       "\n",
       "    .dataframe thead th {\n",
       "        text-align: right;\n",
       "    }\n",
       "</style>\n",
       "<table border=\"1\" class=\"dataframe\">\n",
       "  <thead>\n",
       "    <tr style=\"text-align: right;\">\n",
       "      <th></th>\n",
       "      <th>game_id</th>\n",
       "      <th>date</th>\n",
       "      <th>timestamp</th>\n",
       "      <th>api_home_team_id</th>\n",
       "      <th>api_away_team_id</th>\n",
       "    </tr>\n",
       "  </thead>\n",
       "  <tbody>\n",
       "    <tr>\n",
       "      <th>102</th>\n",
       "      <td>710658</td>\n",
       "      <td>2021-11-06T17:30:00+00:00</td>\n",
       "      <td>1636219800</td>\n",
       "      <td>51</td>\n",
       "      <td>34</td>\n",
       "    </tr>\n",
       "    <tr>\n",
       "      <th>110</th>\n",
       "      <td>710666</td>\n",
       "      <td>2021-11-20T15:00:00+00:00</td>\n",
       "      <td>1637420400</td>\n",
       "      <td>66</td>\n",
       "      <td>51</td>\n",
       "    </tr>\n",
       "    <tr>\n",
       "      <th>122</th>\n",
       "      <td>710678</td>\n",
       "      <td>2021-11-27T17:30:00+00:00</td>\n",
       "      <td>1638034200</td>\n",
       "      <td>51</td>\n",
       "      <td>63</td>\n",
       "    </tr>\n",
       "    <tr>\n",
       "      <th>134</th>\n",
       "      <td>710690</td>\n",
       "      <td>2021-12-01T19:30:00+00:00</td>\n",
       "      <td>1638387000</td>\n",
       "      <td>48</td>\n",
       "      <td>51</td>\n",
       "    </tr>\n",
       "    <tr>\n",
       "      <th>145</th>\n",
       "      <td>710701</td>\n",
       "      <td>2021-12-04T15:00:00+00:00</td>\n",
       "      <td>1638630000</td>\n",
       "      <td>41</td>\n",
       "      <td>51</td>\n",
       "    </tr>\n",
       "  </tbody>\n",
       "</table>\n",
       "</div>"
      ],
      "text/plain": [
       "     game_id                       date   timestamp  api_home_team_id  \\\n",
       "102   710658  2021-11-06T17:30:00+00:00  1636219800                51   \n",
       "110   710666  2021-11-20T15:00:00+00:00  1637420400                66   \n",
       "122   710678  2021-11-27T17:30:00+00:00  1638034200                51   \n",
       "134   710690  2021-12-01T19:30:00+00:00  1638387000                48   \n",
       "145   710701  2021-12-04T15:00:00+00:00  1638630000                41   \n",
       "\n",
       "     api_away_team_id  \n",
       "102                34  \n",
       "110                51  \n",
       "122                63  \n",
       "134                51  \n",
       "145                51  "
      ]
     },
     "execution_count": 25,
     "metadata": {},
     "output_type": "execute_result"
    }
   ],
   "source": [
    "fixtures_df = pd.read_csv('csv/fixtures.csv', usecols=['Unnamed: 0', 'date', 'timestamp', 'api_home_team_id', 'api_away_team_id'])\n",
    "fixtures_df.rename(columns={'Unnamed: 0': 'game_id'}, inplace=True)\n",
    "\n",
    "fixtures_df = fixtures_df[\n",
    "  (fixtures_df['timestamp'] > time.time()) &\n",
    "  ((fixtures_df['api_home_team_id'] == 51) | (fixtures_df['api_away_team_id'] == 51))\n",
    "]\n",
    "\n",
    "fixtures_df.sort_values(by=['timestamp'])\n",
    "\n",
    "print(time.time())\n",
    "fixtures_df.head()"
   ]
  },
  {
   "cell_type": "code",
   "execution_count": 27,
   "metadata": {},
   "outputs": [
    {
     "name": "stdout",
     "output_type": "stream",
     "text": [
      "     game_id                       date   timestamp  api_home_team_id  \\\n",
      "102   710658  2021-11-06T17:30:00+00:00  1636219800                51   \n",
      "110   710666  2021-11-20T15:00:00+00:00  1637420400                66   \n",
      "122   710678  2021-11-27T17:30:00+00:00  1638034200                51   \n",
      "134   710690  2021-12-01T19:30:00+00:00  1638387000                48   \n",
      "145   710701  2021-12-04T15:00:00+00:00  1638630000                41   \n",
      "\n",
      "     api_away_team_id  \n",
      "102                34  \n",
      "110                51  \n",
      "122                63  \n",
      "134                51  \n",
      "145                51  \n"
     ]
    }
   ],
   "source": [
    "print(fixtures_df.head(no_of_fixtures))"
   ]
  }
 ],
 "metadata": {
  "interpreter": {
   "hash": "c30f2af5f468e7f5b45bcc30fca5f4886c90d54777aed916ed5f6294dfb24bf2"
  },
  "kernelspec": {
   "display_name": "Python 3.8.5 64-bit ('base': conda)",
   "name": "python3"
  },
  "language_info": {
   "codemirror_mode": {
    "name": "ipython",
    "version": 3
   },
   "file_extension": ".py",
   "mimetype": "text/x-python",
   "name": "python",
   "nbconvert_exporter": "python",
   "pygments_lexer": "ipython3",
   "version": "3.8.5"
  },
  "orig_nbformat": 4
 },
 "nbformat": 4,
 "nbformat_minor": 2
}
