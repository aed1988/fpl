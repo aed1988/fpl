{
 "cells": [
  {
   "cell_type": "markdown",
   "source": [
    "### Collect data and save to csv\n",
    "\n",
    "#### Goal:  To save all data in a file the I think will be easier to use.  I hope to structure the csv's like a SQL database"
   ],
   "metadata": {}
  },
  {
   "cell_type": "code",
   "execution_count": 9,
   "source": [
    "# Python imports\n",
    "import requests\n",
    "\n",
    "# 3rd party imports\n",
    "import pandas as pd\n",
    "\n",
    "# Custom imports\n",
    "from utils.api_utils import get_json_from_api"
   ],
   "outputs": [],
   "metadata": {}
  },
  {
   "cell_type": "code",
   "execution_count": 10,
   "source": [
    "json = get_json_from_api('https://fantasy.premierleague.com/api/bootstrap-static/')"
   ],
   "outputs": [],
   "metadata": {}
  },
  {
   "cell_type": "code",
   "execution_count": 11,
   "source": [
    "json.keys()"
   ],
   "outputs": [
    {
     "output_type": "execute_result",
     "data": {
      "text/plain": [
       "dict_keys(['events', 'game_settings', 'phases', 'teams', 'total_players', 'elements', 'element_stats', 'element_types'])"
      ]
     },
     "metadata": {},
     "execution_count": 11
    }
   ],
   "metadata": {}
  },
  {
   "cell_type": "code",
   "execution_count": 12,
   "source": [
    "events_df = pd.DataFrame(json['events'])\n",
    "\n",
    "gameweek_df = events_df[['id', 'deadline_time', 'data_checked']].set_index('id')\n",
    "transfer_stats_by_week_df = events_df[['id', 'most_selected', 'most_transferred_in', 'most_captained', 'most_vice_captained']].set_index('id')\n",
    "fpl_player_stats_df = events_df[['id', 'average_entry_score', 'highest_score', 'highest_scoring_entry']].set_index('id')\n",
    "\n",
    "gameweek_df.to_csv('./csv/gameweek.csv')\n",
    "transfer_stats_by_week_df.to_csv('./csv/transfer_stats_by_week.csv')\n",
    "fpl_player_stats_df.to_csv('./csv/fpl_player_stats.csv')"
   ],
   "outputs": [],
   "metadata": {}
  },
  {
   "cell_type": "markdown",
   "source": [
    "### game_settings nor phases relevant for data insight."
   ],
   "metadata": {}
  },
  {
   "cell_type": "code",
   "execution_count": 13,
   "source": [
    "teams_df = pd.DataFrame(json['teams'])\n",
    "\n",
    "team_info_df = teams_df[['id', 'name', 'short_name']].set_index('id')\n",
    "team_strength_df = teams_df[['id', 'strength', \n",
    "  'strength_overall_home', 'strength_attack_home', 'strength_defence_home', \n",
    "  'strength_overall_away', 'strength_attack_away', 'strength_defence_away']].set_index('id')\n",
    "\n",
    "team_info_df.to_csv('./csv/team_info.csv')\n",
    "team_strength_df.to_csv('./csv/team_strength.csv')"
   ],
   "outputs": [],
   "metadata": {}
  },
  {
   "cell_type": "markdown",
   "source": [
    "### total_players not relevant"
   ],
   "metadata": {}
  },
  {
   "cell_type": "code",
   "execution_count": 14,
   "source": [
    "elements_df = pd.DataFrame(json['elements'])\n",
    "\n",
    "pl_player_info_df = elements_df[[\n",
    "  'id', 'team',  # reference info\n",
    "  'first_name', 'second_name', 'web_name',  # Name\n",
    "  'element_type', 'squad_number', 'photo' # Additional\n",
    "  ]].set_index('id')\n",
    "pl_player_ingame_stats_df = elements_df[[\n",
    "  'id', \n",
    "  'minutes', 'yellow_cards', 'red_cards', 'penalties_missed', 'penalties_saved', # General stats\n",
    "  'goals_scored', 'assists', # Attacking stats\n",
    "  'clean_sheets', 'goals_conceded', 'saves', 'own_goals' # Defensive stats\n",
    "  ]].set_index('id')\n",
    "\n",
    "pl_player_info_df.to_csv('csv/pl_player_info.csv')\n",
    "pl_player_ingame_stats_df.to_csv('csv/pl_player_ingame_stats.csv')"
   ],
   "outputs": [],
   "metadata": {}
  },
  {
   "cell_type": "markdown",
   "source": [
    "### Can also extract totals from ```json['elements']```, e.g. total_points.  I think it would be better to arrange info by gameweek and calculate totals. "
   ],
   "metadata": {}
  },
  {
   "cell_type": "code",
   "execution_count": 15,
   "source": [
    "element_stats_df = pd.DataFrame(json['element_stats'])\n",
    "\n",
    "element_stats_df.set_index('name', inplace=True)\n",
    "\n",
    "element_stats_df.to_csv('csv/element_stats.csv')"
   ],
   "outputs": [],
   "metadata": {}
  },
  {
   "cell_type": "code",
   "execution_count": 16,
   "source": [
    "element_types_df = pd.DataFrame(json['element_types'])\n",
    "\n",
    "element_types_df.set_index('id')\n",
    "\n",
    "element_info_df = element_types_df[[\n",
    "  'id', 'plural_name', 'plural_name_short', 'singular_name'\n",
    "]].set_index('id')\n",
    "\n",
    "element_info_df.to_csv('csv/element_info.csv')"
   ],
   "outputs": [],
   "metadata": {}
  }
 ],
 "metadata": {
  "orig_nbformat": 4,
  "language_info": {
   "name": "python",
   "version": "3.8.5",
   "mimetype": "text/x-python",
   "codemirror_mode": {
    "name": "ipython",
    "version": 3
   },
   "pygments_lexer": "ipython3",
   "nbconvert_exporter": "python",
   "file_extension": ".py"
  },
  "kernelspec": {
   "name": "python3",
   "display_name": "Python 3.8.5 64-bit ('base': conda)"
  },
  "interpreter": {
   "hash": "f85c0ae1067a86ad6a96b144378883e79fd1516474b579ba33ee3a7084540002"
  }
 },
 "nbformat": 4,
 "nbformat_minor": 2
}