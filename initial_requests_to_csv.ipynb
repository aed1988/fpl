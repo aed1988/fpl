{
 "cells": [
  {
   "cell_type": "markdown",
   "metadata": {},
   "source": [
    "### Collect data and save to csv\n",
    "\n",
    "#### Goal:  To save all data in a file the I think will be easier to use.  I hope to structure the csv's like a SQL database"
   ]
  },
  {
   "cell_type": "code",
   "execution_count": 20,
   "metadata": {},
   "outputs": [],
   "source": [
    "# Python imports\n",
    "import requests\n",
    "import os\n",
    "\n",
    "# 3rd party imports\n",
    "import pandas as pd\n",
    "\n",
    "# Custom imports\n",
    "import utils.api_utils as api"
   ]
  },
  {
   "cell_type": "code",
   "execution_count": 21,
   "metadata": {},
   "outputs": [],
   "source": [
    "json = api.get_json_from_api('https://fantasy.premierleague.com/api/bootstrap-static/')\n",
    "\n",
    "fixtures_json = api.get_json_from_api(\n",
    "  \"https://api-football-beta.p.rapidapi.com/fixtures\", \n",
    "  headers = {\n",
    "    'x-rapidapi-host': os.getenv('RAPID_API_HOST'),\n",
    "    'x-rapidapi-key':  os.getenv('RAPID_API_KEY')\n",
    "    },\n",
    "  querystring= {\"season\": \"2021\", \"league\":\"39\"}\n",
    "    )"
   ]
  },
  {
   "cell_type": "code",
   "execution_count": 22,
   "metadata": {},
   "outputs": [],
   "source": [
    "data = {}\n",
    "\n",
    "for fixture in fixtures_json['response']:\n",
    "  data[fixture['fixture']['id']] = {\n",
    "    'date': fixture['fixture']['date'],\n",
    "    'timestamp': fixture['fixture']['timestamp'],\n",
    "    'venue': fixture['fixture']['venue']['id'],\n",
    "    'home_team': fixture['teams']['home']['id'],\n",
    "    'home_team_name': fixture['teams']['home']['name'],\n",
    "    'away_team': fixture['teams']['away']['id'],\n",
    "    'away_team_name': fixture['teams']['away']['name'],\n",
    "    'home_score': fixture['score']['fulltime']['home'],\n",
    "    'away_score': fixture['score']['fulltime']['away'],\n",
    "  }\n",
    "\n",
    "rapid_api_fixture_df = pd.DataFrame(data)\n",
    "rapid_api_fixture_df = rapid_api_fixture_df.T\n",
    "rapid_api_fixture_df.rename(columns={'home_team': 'api_home_team_id', 'away_team': 'api_away_team_id'}, inplace=True)"
   ]
  },
  {
   "cell_type": "code",
   "execution_count": 23,
   "metadata": {},
   "outputs": [
    {
     "data": {
      "text/plain": [
       "dict_keys(['events', 'game_settings', 'phases', 'teams', 'total_players', 'elements', 'element_stats', 'element_types'])"
      ]
     },
     "execution_count": 23,
     "metadata": {},
     "output_type": "execute_result"
    }
   ],
   "source": [
    "json.keys()"
   ]
  },
  {
   "cell_type": "markdown",
   "metadata": {},
   "source": [
    "### Save gameweek info."
   ]
  },
  {
   "cell_type": "code",
   "execution_count": 24,
   "metadata": {},
   "outputs": [],
   "source": [
    "events_df = pd.DataFrame(json['events'])\n",
    "\n",
    "gameweek_df = events_df[['id', 'deadline_time', 'data_checked']].set_index('id')\n",
    "\n",
    "gameweek_df.to_csv('./csv/gameweek.csv')"
   ]
  },
  {
   "cell_type": "markdown",
   "metadata": {},
   "source": [
    "### Save transfer stats"
   ]
  },
  {
   "cell_type": "code",
   "execution_count": 25,
   "metadata": {},
   "outputs": [],
   "source": [
    "transfer_stats_by_week_df = events_df[['id', 'most_selected', 'most_transferred_in', 'most_captained', 'most_vice_captained']].set_index('id')\n",
    "transfer_stats_by_week_df.to_csv('./csv/transfer_stats_by_week.csv')"
   ]
  },
  {
   "cell_type": "markdown",
   "metadata": {},
   "source": [
    "### Save fantasy player stats"
   ]
  },
  {
   "cell_type": "code",
   "execution_count": 26,
   "metadata": {},
   "outputs": [],
   "source": [
    "fpl_player_stats_df = events_df[['id', 'average_entry_score', 'highest_score', 'highest_scoring_entry']].set_index('id')\n",
    "fpl_player_stats_df.to_csv('./csv/fpl_player_stats.csv')"
   ]
  },
  {
   "cell_type": "markdown",
   "metadata": {},
   "source": [
    "#### game_settings nor phases relevant for data insight."
   ]
  },
  {
   "cell_type": "markdown",
   "metadata": {},
   "source": [
    "### Save team information"
   ]
  },
  {
   "cell_type": "code",
   "execution_count": 27,
   "metadata": {},
   "outputs": [
    {
     "name": "stdout",
     "output_type": "stream",
     "text": [
      "           name short_name  api_id\n",
      "id                                \n",
      "1       Arsenal        ARS      42\n",
      "2   Aston Villa        AVL      66\n",
      "3     Brentford        BRE      55\n",
      "4      Brighton        BHA      51\n",
      "5       Burnley        BUR      44\n"
     ]
    }
   ],
   "source": [
    "teams_df = pd.DataFrame(json['teams'])\n",
    "\n",
    "team_info_df = teams_df[['id', 'name', 'short_name']].set_index('id')\n",
    "team_info_df['name'].replace({\"Man Utd\":\"Manchester United\", \"Man City\": \"Manchester City\", \"Spurs\":\"Tottenham\"}, inplace=True)\n",
    "\n",
    "rapid_api_team_info_df = rapid_api_fixture_df[['api_home_team_id', 'home_team_name']].to_numpy()\n",
    "api_dict = {}\n",
    "for i in rapid_api_team_info_df:\n",
    "  if i[1] not in api_dict:\n",
    "    api_dict[i[1]] = i[0]\n",
    "\n",
    "team_info_df['api_id'] = team_info_df.apply(lambda x: api_dict[x['name']], axis=1)\n",
    "print(team_info_df.head())\n",
    "team_info_df.to_csv('./csv/team_info.csv')"
   ]
  },
  {
   "cell_type": "markdown",
   "metadata": {},
   "source": [
    "### Save team strength."
   ]
  },
  {
   "cell_type": "code",
   "execution_count": 28,
   "metadata": {},
   "outputs": [],
   "source": [
    "team_strength_df = teams_df[['id', 'strength', \n",
    "  'strength_overall_home', 'strength_attack_home', 'strength_defence_home', \n",
    "  'strength_overall_away', 'strength_attack_away', 'strength_defence_away']].set_index('id')\n",
    "\n",
    "team_strength_df.to_csv('./csv/team_strength.csv')"
   ]
  },
  {
   "cell_type": "code",
   "execution_count": 29,
   "metadata": {},
   "outputs": [],
   "source": [
    "team_info_df = teams_df[['id', 'name', 'short_name']].set_index('id')\n",
    "\n",
    "team_info_df.to_csv('./csv/team_info.csv')"
   ]
  },
  {
   "cell_type": "markdown",
   "metadata": {},
   "source": [
    "### total_players not relevant"
   ]
  },
  {
   "cell_type": "code",
   "execution_count": 30,
   "metadata": {},
   "outputs": [],
   "source": [
    "elements_df = pd.DataFrame(json['elements'])\n",
    "\n",
    "pl_player_info_df = elements_df[[\n",
    "  'id', 'team',  # reference info\n",
    "  'first_name', 'second_name', 'web_name',  # Name\n",
    "  'element_type', 'squad_number', 'photo' # Additional\n",
    "  ]].set_index('id')\n",
    "pl_player_ingame_stats_df = elements_df[[\n",
    "  'id', \n",
    "  'minutes', 'yellow_cards', 'red_cards', 'penalties_missed', 'penalties_saved', # General stats\n",
    "  'goals_scored', 'assists', # Attacking stats\n",
    "  'clean_sheets', 'goals_conceded', 'saves', 'own_goals' # Defensive stats\n",
    "  ]].set_index('id')\n",
    "\n",
    "pl_player_info_df.to_csv('csv/pl_player_info.csv')\n",
    "pl_player_ingame_stats_df.to_csv('csv/pl_player_ingame_stats.csv')"
   ]
  },
  {
   "cell_type": "markdown",
   "metadata": {},
   "source": [
    "### Can also extract totals from ```json['elements']```, e.g. total_points.  I think it would be better to arrange info by gameweek and calculate totals. "
   ]
  },
  {
   "cell_type": "code",
   "execution_count": 31,
   "metadata": {},
   "outputs": [],
   "source": [
    "element_stats_df = pd.DataFrame(json['element_stats'])\n",
    "\n",
    "element_stats_df.set_index('name', inplace=True)\n",
    "\n",
    "element_stats_df.to_csv('csv/element_stats.csv')"
   ]
  },
  {
   "cell_type": "code",
   "execution_count": 32,
   "metadata": {},
   "outputs": [],
   "source": [
    "element_types_df = pd.DataFrame(json['element_types'])\n",
    "\n",
    "element_types_df.set_index('id')\n",
    "\n",
    "element_info_df = element_types_df[[\n",
    "  'id', 'plural_name', 'plural_name_short', 'singular_name'\n",
    "]].set_index('id')\n",
    "\n",
    "element_info_df.to_csv('csv/element_info.csv')"
   ]
  },
  {
   "cell_type": "markdown",
   "metadata": {},
   "source": [
    "### Save Fixtures"
   ]
  },
  {
   "cell_type": "code",
   "execution_count": 33,
   "metadata": {},
   "outputs": [],
   "source": [
    "rapid_api_fixture_df.to_csv('csv/fixtures.csv')"
   ]
  }
 ],
 "metadata": {
  "interpreter": {
   "hash": "f85c0ae1067a86ad6a96b144378883e79fd1516474b579ba33ee3a7084540002"
  },
  "kernelspec": {
   "display_name": "Python 3.8.5 64-bit ('base': conda)",
   "name": "python3"
  },
  "language_info": {
   "codemirror_mode": {
    "name": "ipython",
    "version": 3
   },
   "file_extension": ".py",
   "mimetype": "text/x-python",
   "name": "python",
   "nbconvert_exporter": "python",
   "pygments_lexer": "ipython3",
   "version": "3.8.5"
  },
  "orig_nbformat": 4
 },
 "nbformat": 4,
 "nbformat_minor": 2
}
