{
 "cells": [
  {
   "cell_type": "markdown",
   "metadata": {},
   "source": [
    "### Collect data and save to csv\n",
    "\n",
    "#### Goal:  To save all data in a file the I think will be easier to use.  I hope to structure the csv's like a SQL database"
   ]
  },
  {
   "cell_type": "code",
   "execution_count": 1,
   "metadata": {},
   "outputs": [],
   "source": [
    "# Python imports\n",
    "import requests\n",
    "import os\n",
    "\n",
    "# 3rd party imports\n",
    "import pandas as pd\n",
    "\n",
    "# Custom imports\n",
    "import api_utils as api\n",
    "from definitions import PICKLE_DIR, RAPID_API_KEY"
   ]
  },
  {
   "cell_type": "code",
   "execution_count": 2,
   "metadata": {},
   "outputs": [],
   "source": [
    "json = api.get_json_from_fpl_api('https://fantasy.premierleague.com/api/bootstrap-static/')\n",
    "\n",
    "fixtures_json = requests.get(\n",
    "  \"https://api-football-beta.p.rapidapi.com/fixtures\", \n",
    "  headers = {\n",
    "    'x-rapidapi-host': \"api-football-beta.p.rapidapi.com\",\n",
    "    'x-rapidapi-key': RAPID_API_KEY\n",
    "    },\n",
    "  params= {\"season\": \"2021\", \"league\":\"39\"}\n",
    "    ).json()\n",
    "\n",
    "team_info_json = requests.get(\n",
    "  \"https://api-football-beta.p.rapidapi.com/teams\", \n",
    "  headers = {\n",
    "    'x-rapidapi-host': \"api-football-beta.p.rapidapi.com\",\n",
    "    'x-rapidapi-key': RAPID_API_KEY\n",
    "    },\n",
    "  params= {\"season\": \"2021\", \"league\":\"39\"}\n",
    "    ).json()"
   ]
  },
  {
   "cell_type": "code",
   "execution_count": 3,
   "metadata": {},
   "outputs": [
    {
     "data": {
      "text/html": [
       "<div>\n",
       "<style scoped>\n",
       "    .dataframe tbody tr th:only-of-type {\n",
       "        vertical-align: middle;\n",
       "    }\n",
       "\n",
       "    .dataframe tbody tr th {\n",
       "        vertical-align: top;\n",
       "    }\n",
       "\n",
       "    .dataframe thead th {\n",
       "        text-align: right;\n",
       "    }\n",
       "</style>\n",
       "<table border=\"1\" class=\"dataframe\">\n",
       "  <thead>\n",
       "    <tr style=\"text-align: right;\">\n",
       "      <th></th>\n",
       "      <th>api_team_id</th>\n",
       "      <th>venue_id</th>\n",
       "      <th>venue_name</th>\n",
       "    </tr>\n",
       "  </thead>\n",
       "  <tbody>\n",
       "    <tr>\n",
       "      <th>Manchester United</th>\n",
       "      <td>33</td>\n",
       "      <td>556</td>\n",
       "      <td>Old Trafford</td>\n",
       "    </tr>\n",
       "    <tr>\n",
       "      <th>Newcastle</th>\n",
       "      <td>34</td>\n",
       "      <td>562</td>\n",
       "      <td>St. James' Park</td>\n",
       "    </tr>\n",
       "    <tr>\n",
       "      <th>Watford</th>\n",
       "      <td>38</td>\n",
       "      <td>596</td>\n",
       "      <td>Vicarage Road</td>\n",
       "    </tr>\n",
       "    <tr>\n",
       "      <th>Wolves</th>\n",
       "      <td>39</td>\n",
       "      <td>600</td>\n",
       "      <td>Molineux Stadium</td>\n",
       "    </tr>\n",
       "    <tr>\n",
       "      <th>Liverpool</th>\n",
       "      <td>40</td>\n",
       "      <td>550</td>\n",
       "      <td>Anfield</td>\n",
       "    </tr>\n",
       "  </tbody>\n",
       "</table>\n",
       "</div>"
      ],
      "text/plain": [
       "                  api_team_id venue_id        venue_name\n",
       "Manchester United          33      556      Old Trafford\n",
       "Newcastle                  34      562   St. James' Park\n",
       "Watford                    38      596     Vicarage Road\n",
       "Wolves                     39      600  Molineux Stadium\n",
       "Liverpool                  40      550           Anfield"
      ]
     },
     "execution_count": 3,
     "metadata": {},
     "output_type": "execute_result"
    }
   ],
   "source": [
    "team_info_data = {}\n",
    "for team in team_info_json['response']:\n",
    "  team_info_data[team['team']['name']] = {\n",
    "    'api_team_id': team['team']['id'],\n",
    "    'venue_id': team['venue']['id'],\n",
    "    'venue_name': team['venue']['name']\n",
    "  }\n",
    "\n",
    "rapid_api_team_info_df = pd.DataFrame(team_info_data)\n",
    "rapid_api_team_info_df = rapid_api_team_info_df.T\n",
    "rapid_api_team_info_df.head()"
   ]
  },
  {
   "cell_type": "code",
   "execution_count": 4,
   "metadata": {},
   "outputs": [
    {
     "data": {
      "text/plain": [
       "dict_keys(['fixture', 'league', 'teams', 'goals', 'score'])"
      ]
     },
     "execution_count": 4,
     "metadata": {},
     "output_type": "execute_result"
    }
   ],
   "source": [
    "fixtures_json['response'][0].keys()"
   ]
  },
  {
   "cell_type": "code",
   "execution_count": 5,
   "metadata": {},
   "outputs": [],
   "source": [
    "fixture_data = {}\n",
    "\n",
    "for fixture in fixtures_json['response']:\n",
    "\n",
    "  fixture_data[fixture['fixture']['id']] = {\n",
    "    'timestamp': fixture['fixture']['timestamp'],\n",
    "    'venue': fixture['fixture']['venue']['id'],\n",
    "    'api_home_team_id': fixture['teams']['home']['id'],\n",
    "    'api_away_team_id': fixture['teams']['away']['id'],\n",
    "    'home_score': fixture['score']['fulltime']['home'],\n",
    "    'away_score': fixture['score']['fulltime']['away'],\n",
    "  }\n"
   ]
  },
  {
   "cell_type": "code",
   "execution_count": 6,
   "metadata": {},
   "outputs": [],
   "source": [
    "rapid_api_fixture_df = pd.DataFrame(fixture_data).infer_objects()\n",
    "rapid_api_fixture_df = rapid_api_fixture_df.T\n",
    "rapid_api_fixture_df = rapid_api_fixture_df.convert_dtypes()\n",
    "rapid_api_fixture_df.rename_axis('fixture_id', inplace=True)\n",
    "rapid_api_fixture_df.to_pickle(f\"{PICKLE_DIR}/fixtures.pickle\")"
   ]
  },
  {
   "cell_type": "code",
   "execution_count": 7,
   "metadata": {},
   "outputs": [
    {
     "data": {
      "text/plain": [
       "dict_keys(['events', 'game_settings', 'phases', 'teams', 'total_players', 'elements', 'element_stats', 'element_types'])"
      ]
     },
     "execution_count": 7,
     "metadata": {},
     "output_type": "execute_result"
    }
   ],
   "source": [
    "json.keys()"
   ]
  },
  {
   "cell_type": "markdown",
   "metadata": {},
   "source": [
    "### Save gameweek info."
   ]
  },
  {
   "cell_type": "code",
   "execution_count": 8,
   "metadata": {},
   "outputs": [],
   "source": [
    "events_df = pd.DataFrame(json['events'])\n",
    "\n",
    "gameweek_df = events_df[['id', 'deadline_time_epoch', 'data_checked']].set_index('id')\n",
    "\n",
    "gameweek_df.to_pickle(f\"{PICKLE_DIR}/gameweek.pickle\")"
   ]
  },
  {
   "cell_type": "markdown",
   "metadata": {},
   "source": [
    "### Save transfer stats"
   ]
  },
  {
   "cell_type": "code",
   "execution_count": 9,
   "metadata": {},
   "outputs": [],
   "source": [
    "transfer_stats_by_week_df = events_df[['id', 'most_selected', 'most_transferred_in', 'most_captained', 'most_vice_captained']].set_index('id')\n",
    "transfer_stats_by_week_df.to_pickle(f\"{PICKLE_DIR}/transfer_stats_by_week.pickle\")"
   ]
  },
  {
   "cell_type": "markdown",
   "metadata": {},
   "source": [
    "#### game_settings nor phases relevant for data insight."
   ]
  },
  {
   "cell_type": "markdown",
   "metadata": {},
   "source": [
    "### Save team information"
   ]
  },
  {
   "cell_type": "code",
   "execution_count": 10,
   "metadata": {},
   "outputs": [],
   "source": [
    "teams_df = pd.DataFrame(json['teams'])\n",
    "teams_df.rename(columns={'id': 'fpl_team_id'}, inplace=True)\n",
    "\n",
    "team_info_df = teams_df[['fpl_team_id', 'name']].set_index('fpl_team_id')\n",
    "team_info_df['name'].replace({\"Man Utd\":\"Manchester United\", \"Man City\": \"Manchester City\", \"Spurs\":\"Tottenham\"}, inplace=True)\n",
    "team_info_df = team_info_df.merge(right=rapid_api_team_info_df, left_on='name', right_index=True)\n",
    "team_info_df.head()\n",
    "team_info_df.to_pickle(f\"{PICKLE_DIR}/team_info.pickle\")"
   ]
  },
  {
   "cell_type": "markdown",
   "metadata": {},
   "source": [
    "### Save team strength."
   ]
  },
  {
   "cell_type": "code",
   "execution_count": 11,
   "metadata": {},
   "outputs": [],
   "source": [
    "team_strength_df = teams_df[['fpl_team_id', 'strength', \n",
    "  'strength_overall_home', 'strength_attack_home', 'strength_defence_home', \n",
    "  'strength_overall_away', 'strength_attack_away', 'strength_defence_away']].set_index('fpl_team_id')\n",
    "\n",
    "team_strength_df.to_pickle(f\"{PICKLE_DIR}/team_strength.pickle\")"
   ]
  },
  {
   "cell_type": "code",
   "execution_count": 12,
   "metadata": {},
   "outputs": [],
   "source": [
    "team_info_df = teams_df[['fpl_team_id', 'name', 'short_name']].set_index('fpl_team_id')\n",
    "\n",
    "team_info_df.to_pickle(f\"{PICKLE_DIR}/team_info.pickle\")"
   ]
  },
  {
   "cell_type": "markdown",
   "metadata": {},
   "source": [
    "### total_players not relevant"
   ]
  },
  {
   "cell_type": "code",
   "execution_count": 13,
   "metadata": {},
   "outputs": [],
   "source": [
    "elements_df = pd.DataFrame(json['elements'])\n",
    "\n",
    "pl_player_info_df = elements_df[[\n",
    "  'id', 'team',  # reference info\n",
    "  'first_name', 'second_name', 'web_name',  # Name\n",
    "  'element_type', 'squad_number', 'photo' # Additional\n",
    "  ]].set_index('id')\n",
    "pl_player_ingame_stats_df = elements_df[[\n",
    "  'id', \n",
    "  'minutes', 'yellow_cards', 'red_cards', 'penalties_missed', 'penalties_saved', # General stats\n",
    "  'goals_scored', 'assists', # Attacking stats\n",
    "  'clean_sheets', 'goals_conceded', 'saves', 'own_goals' # Defensive stats\n",
    "  ]].set_index('id')\n",
    "\n",
    "pl_player_info_df.to_pickle(f\"{PICKLE_DIR}/pl_player_info.pickle\")\n",
    "pl_player_ingame_stats_df.to_pickle(f\"{PICKLE_DIR}/pl_player_ingame_stats.pickle\")"
   ]
  },
  {
   "cell_type": "markdown",
   "metadata": {},
   "source": [
    "### Can also extract totals from ```json['elements']```, e.g. total_points.  I think it would be better to arrange info by gameweek and calculate totals. "
   ]
  },
  {
   "cell_type": "code",
   "execution_count": 14,
   "metadata": {},
   "outputs": [],
   "source": [
    "element_stats_df = pd.DataFrame(json['element_stats'])\n",
    "\n",
    "element_stats_df.set_index('name', inplace=True)\n",
    "\n",
    "element_stats_df.to_pickle(f\"{PICKLE_DIR}/element_stats.pickle\")"
   ]
  },
  {
   "cell_type": "code",
   "execution_count": 15,
   "metadata": {},
   "outputs": [],
   "source": [
    "element_types_df = pd.DataFrame(json['element_types'])\n",
    "\n",
    "element_types_df.set_index('id')\n",
    "\n",
    "element_info_df = element_types_df[[\n",
    "  'id', 'plural_name', 'plural_name_short', 'singular_name'\n",
    "]].set_index('id')\n",
    "\n",
    "element_info_df.to_pickle(f\"{PICKLE_DIR}/element_info.pickle\")"
   ]
  }
 ],
 "metadata": {
  "kernelspec": {
   "display_name": "base",
   "language": "python",
   "name": "python3"
  },
  "language_info": {
   "codemirror_mode": {
    "name": "ipython",
    "version": 3
   },
   "file_extension": ".py",
   "mimetype": "text/x-python",
   "name": "python",
   "nbconvert_exporter": "python",
   "pygments_lexer": "ipython3",
   "version": "3.9.5"
  },
  "orig_nbformat": 4,
  "vscode": {
   "interpreter": {
    "hash": "c30f2af5f468e7f5b45bcc30fca5f4886c90d54777aed916ed5f6294dfb24bf2"
   }
  }
 },
 "nbformat": 4,
 "nbformat_minor": 2
}
