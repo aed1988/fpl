{
 "cells": [
  {
   "cell_type": "code",
   "execution_count": 30,
   "metadata": {},
   "outputs": [],
   "source": [
    "import requests\n",
    "\n",
    "from dotenv import dotenv_values\n",
    "\n",
    "\n",
    "from utils import api_utils"
   ]
  },
  {
   "cell_type": "code",
   "execution_count": 31,
   "metadata": {},
   "outputs": [],
   "source": [
    "fpl_email = dotenv_values('.env.secret')['FPL_EMAIL']\n",
    "fpl_password = dotenv_values('.env.secret')['FPL_PASSWORD']"
   ]
  },
  {
   "cell_type": "code",
   "execution_count": 32,
   "metadata": {},
   "outputs": [],
   "source": [
    "LOGIN_URL = \"https://users.premierleague.com/accounts/login/\"\n",
    "payload={\"login\": fpl_email, \"password\": fpl_password}"
   ]
  },
  {
   "cell_type": "code",
   "execution_count": 33,
   "metadata": {},
   "outputs": [
    {
     "name": "stdout",
     "output_type": "stream",
     "text": [
      "{'detail': 'Authentication credentials were not provided.'}\n"
     ]
    }
   ],
   "source": [
    "# Use 'with' to ensure the session context is closed after use.\n",
    "with requests.Session() as s:\n",
    "    p = s.post(LOGIN_URL, data=payload)\n",
    "    # print the html returned or something more intelligent to see if it's a successful login page.\n",
    "    # print(p.content)\n",
    "\n",
    "    # An authorised request.\n",
    "    r = s.get('https://fantasy.premierleague.com/api/my-team/2563990/')\n",
    "    print(r.json())\n",
    "        # etc..."
   ]
  }
 ],
 "metadata": {
  "interpreter": {
   "hash": "c30f2af5f468e7f5b45bcc30fca5f4886c90d54777aed916ed5f6294dfb24bf2"
  },
  "kernelspec": {
   "display_name": "Python 3.8.5 64-bit ('base': conda)",
   "language": "python",
   "name": "python3"
  },
  "language_info": {
   "codemirror_mode": {
    "name": "ipython",
    "version": 3
   },
   "file_extension": ".py",
   "mimetype": "text/x-python",
   "name": "python",
   "nbconvert_exporter": "python",
   "pygments_lexer": "ipython3",
   "version": "3.9.5"
  },
  "orig_nbformat": 4
 },
 "nbformat": 4,
 "nbformat_minor": 2
}
