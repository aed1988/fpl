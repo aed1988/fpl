{
 "cells": [
  {
   "cell_type": "code",
   "execution_count": 25,
   "metadata": {},
   "outputs": [],
   "source": [
    "import time\n",
    "import re\n",
    "\n",
    "import requests\n",
    "\n",
    "import sqlite3\n",
    "\n"
   ]
  },
  {
   "cell_type": "code",
   "execution_count": 51,
   "metadata": {},
   "outputs": [],
   "source": [
    "def get_player_photo_id_from_str(photo):\n",
    "  return re.split('\\.',photo)[0]"
   ]
  },
  {
   "cell_type": "code",
   "execution_count": 56,
   "metadata": {},
   "outputs": [
    {
     "name": "stdout",
     "output_type": "stream",
     "text": [
      "232223: FN:Folarin SN:Balogun.  Balogun\n",
      "58822: FN:Cédric SN:Alves Soares.  Cédric\n",
      "153256: FN:Mohamed SN:Elneny.  M.Elneny\n",
      "438098: FN:Fábio SN:Ferreira Vieira.  Fábio Vieira\n",
      "226597: FN:Gabriel SN:dos Santos Magalhães.  Gabriel\n",
      "219847: FN:Kai SN:Havertz.  Havertz\n",
      "205651: FN:Gabriel SN:Fernando de Jesus.  G.Jesus\n",
      "85955: FN:Jorge Luiz SN:Frello Filho.  Jorginho\n",
      "440854: FN:Jakub SN:Kiwior.  Kiwior\n",
      "479683: FN:Marcus SN:Oliveira Alencar.  Marquinhos\n"
     ]
    }
   ],
   "source": [
    "res = requests.get('https://fantasy.premierleague.com/api/bootstrap-static/').json()\n",
    "players = res['elements']\n",
    "for i in range(10):\n",
    "  first_name, last_name, web_name, photo_id = players[i]['first_name'], players[i]['second_name'], players[i]['web_name'], get_player_photo_id_from_str(players[i]['photo'])\n",
    "  print(f\"{photo_id}: FN:{first_name} SN:{last_name}.  {web_name}\") \n"
   ]
  }
 ],
 "metadata": {
  "kernelspec": {
   "display_name": "basic_env",
   "language": "python",
   "name": "python3"
  },
  "language_info": {
   "codemirror_mode": {
    "name": "ipython",
    "version": 3
   },
   "file_extension": ".py",
   "mimetype": "text/x-python",
   "name": "python",
   "nbconvert_exporter": "python",
   "pygments_lexer": "ipython3",
   "version": "3.11.4"
  }
 },
 "nbformat": 4,
 "nbformat_minor": 2
}
