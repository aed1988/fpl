{
 "cells": [
  {
   "cell_type": "code",
   "execution_count": 1,
   "metadata": {},
   "outputs": [],
   "source": [
    "import requests"
   ]
  },
  {
   "cell_type": "code",
   "execution_count": 2,
   "metadata": {},
   "outputs": [],
   "source": [
    "def get_json_from_api(url, headers=None, querystring=None):\n",
    "  response = requests.request(\"GET\", url, headers=headers, params=querystring)\n",
    "  json = response.json()\n",
    "\n",
    "  return json"
   ]
  },
  {
   "cell_type": "code",
   "execution_count": 3,
   "metadata": {},
   "outputs": [],
   "source": [
    "def get_player_info():\n",
    "  try:\n",
    "    import pandas as pd\n",
    "    return pd.read_excel('/info.xlsx')\n",
    "  except:\n",
    "    import requests\n",
    "    json = get_json_from_api('https://fantasy.premierleague.com/api/bootstrap-static')\n",
    "    elements_df = pd.DataFrame(json['elements'])\n",
    "    elementtypes_df = pd.DataFrame(json['element_types'])"
   ]
  }
 ],
 "metadata": {
  "interpreter": {
   "hash": "c30f2af5f468e7f5b45bcc30fca5f4886c90d54777aed916ed5f6294dfb24bf2"
  },
  "kernelspec": {
   "display_name": "Python 3.8.5 64-bit ('base': conda)",
   "language": "python",
   "name": "python3"
  },
  "language_info": {
   "codemirror_mode": {
    "name": "ipython",
    "version": 3
   },
   "file_extension": ".py",
   "mimetype": "text/x-python",
   "name": "python",
   "nbconvert_exporter": "python",
   "pygments_lexer": "ipython3",
   "version": "3.8.5"
  },
  "orig_nbformat": 4
 },
 "nbformat": 4,
 "nbformat_minor": 2
}
