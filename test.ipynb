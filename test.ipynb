{
    "cells": [
        {
            "cell_type": "code",
            "execution_count": 25,
            "source": [
                "import requests\n",
                "from utils.api_utils import get_json_from_api\n",
                "import pandas as pd"
            ],
            "outputs": [],
            "metadata": {}
        },
        {
            "cell_type": "code",
            "execution_count": 26,
            "source": [
                "def left_merge_player_info(\n",
                "  df: pd.core.frame.DataFrame, file_path: str = 'csv/player_info.csv', \n",
                "  left_on: str = 'id', right_index: bool = True\n",
                "  ):\n",
                "\n",
                "  try:\n",
                "     right_df = pd.read_csv(file_path, index_col=0)\n",
                "     df = df.merge(right_df, left_on=left_on, right_index=right_index)\n",
                "\n",
                "\n",
                "  except FileNotFoundError:\n",
                "    json = get_json_from_api('http://fantasy.premierleague.com/api/bootstrap-static/')\n",
                "\n",
                "    elements_df = pd.DataFrame(json['elements'])[['id', 'web_name', 'first_name', 'second_name', 'photo', 'team_code', 'element_type']]\n",
                "    teams_df = pd.DataFrame(json['teams'])[['code', 'short_name', 'name']]\n",
                "    element_types_df = pd.DataFrame(json['element_types'])[['id', 'singular_name', 'singular_name_short']]\n",
                "    elements_df.set_index('id', inplace=True)\n",
                "    teams_df.set_index('code', inplace=True)\n",
                "    element_types_df.set_index('id', inplace=True)\n",
                "\n",
                "    merge_1 = elements_df.merge(teams_df, how='left', left_on='team_code', right_on='code')\n",
                "    df = merge_1.merge(element_types_df, how='left', left_on='element_type', right_index=True)\n",
                "    \n",
                "    df.to_csv(file_path)\n",
                "\n",
                "  return df"
            ],
            "outputs": [],
            "metadata": {}
        },
        {
            "cell_type": "code",
            "execution_count": 27,
            "source": [
                "df1 = left_merge_player_info(pd.DataFrame({'id': [111,112,113,114]}))"
            ],
            "outputs": [],
            "metadata": {}
        },
        {
            "cell_type": "code",
            "execution_count": 28,
            "source": [
                "df1"
            ],
            "outputs": [
                {
                    "output_type": "execute_result",
                    "data": {
                        "text/plain": [
                            "    id  web_name first_name second_name       photo  team_code  element_type  \\\n",
                            "0  111  Bissouma       Yves    Bissouma  227127.jpg         36             3   \n",
                            "1  112   Lamptey      Tariq     Lamptey  232792.jpg         36             2   \n",
                            "2  113  Connolly      Aaron    Connolly  233425.jpg         36             4   \n",
                            "3  114    Alzate     Steven      Alzate  235382.jpg         36             3   \n",
                            "\n",
                            "  short_name      name singular_name singular_name_short  \n",
                            "0        BHA  Brighton    Midfielder                 MID  \n",
                            "1        BHA  Brighton      Defender                 DEF  \n",
                            "2        BHA  Brighton       Forward                 FWD  \n",
                            "3        BHA  Brighton    Midfielder                 MID  "
                        ],
                        "text/html": [
                            "<div>\n",
                            "<style scoped>\n",
                            "    .dataframe tbody tr th:only-of-type {\n",
                            "        vertical-align: middle;\n",
                            "    }\n",
                            "\n",
                            "    .dataframe tbody tr th {\n",
                            "        vertical-align: top;\n",
                            "    }\n",
                            "\n",
                            "    .dataframe thead th {\n",
                            "        text-align: right;\n",
                            "    }\n",
                            "</style>\n",
                            "<table border=\"1\" class=\"dataframe\">\n",
                            "  <thead>\n",
                            "    <tr style=\"text-align: right;\">\n",
                            "      <th></th>\n",
                            "      <th>id</th>\n",
                            "      <th>web_name</th>\n",
                            "      <th>first_name</th>\n",
                            "      <th>second_name</th>\n",
                            "      <th>photo</th>\n",
                            "      <th>team_code</th>\n",
                            "      <th>element_type</th>\n",
                            "      <th>short_name</th>\n",
                            "      <th>name</th>\n",
                            "      <th>singular_name</th>\n",
                            "      <th>singular_name_short</th>\n",
                            "    </tr>\n",
                            "  </thead>\n",
                            "  <tbody>\n",
                            "    <tr>\n",
                            "      <th>0</th>\n",
                            "      <td>111</td>\n",
                            "      <td>Bissouma</td>\n",
                            "      <td>Yves</td>\n",
                            "      <td>Bissouma</td>\n",
                            "      <td>227127.jpg</td>\n",
                            "      <td>36</td>\n",
                            "      <td>3</td>\n",
                            "      <td>BHA</td>\n",
                            "      <td>Brighton</td>\n",
                            "      <td>Midfielder</td>\n",
                            "      <td>MID</td>\n",
                            "    </tr>\n",
                            "    <tr>\n",
                            "      <th>1</th>\n",
                            "      <td>112</td>\n",
                            "      <td>Lamptey</td>\n",
                            "      <td>Tariq</td>\n",
                            "      <td>Lamptey</td>\n",
                            "      <td>232792.jpg</td>\n",
                            "      <td>36</td>\n",
                            "      <td>2</td>\n",
                            "      <td>BHA</td>\n",
                            "      <td>Brighton</td>\n",
                            "      <td>Defender</td>\n",
                            "      <td>DEF</td>\n",
                            "    </tr>\n",
                            "    <tr>\n",
                            "      <th>2</th>\n",
                            "      <td>113</td>\n",
                            "      <td>Connolly</td>\n",
                            "      <td>Aaron</td>\n",
                            "      <td>Connolly</td>\n",
                            "      <td>233425.jpg</td>\n",
                            "      <td>36</td>\n",
                            "      <td>4</td>\n",
                            "      <td>BHA</td>\n",
                            "      <td>Brighton</td>\n",
                            "      <td>Forward</td>\n",
                            "      <td>FWD</td>\n",
                            "    </tr>\n",
                            "    <tr>\n",
                            "      <th>3</th>\n",
                            "      <td>114</td>\n",
                            "      <td>Alzate</td>\n",
                            "      <td>Steven</td>\n",
                            "      <td>Alzate</td>\n",
                            "      <td>235382.jpg</td>\n",
                            "      <td>36</td>\n",
                            "      <td>3</td>\n",
                            "      <td>BHA</td>\n",
                            "      <td>Brighton</td>\n",
                            "      <td>Midfielder</td>\n",
                            "      <td>MID</td>\n",
                            "    </tr>\n",
                            "  </tbody>\n",
                            "</table>\n",
                            "</div>"
                        ]
                    },
                    "metadata": {},
                    "execution_count": 28
                }
            ],
            "metadata": {}
        },
        {
            "cell_type": "code",
            "execution_count": null,
            "source": [],
            "outputs": [],
            "metadata": {}
        }
    ],
    "metadata": {
        "orig_nbformat": 4,
        "language_info": {
            "name": "python",
            "version": "3.8.5",
            "mimetype": "text/x-python",
            "codemirror_mode": {
                "name": "ipython",
                "version": 3
            },
            "pygments_lexer": "ipython3",
            "nbconvert_exporter": "python",
            "file_extension": ".py"
        },
        "kernelspec": {
            "name": "python3",
            "display_name": "Python 3.8.5 64-bit ('base': conda)"
        },
        "interpreter": {
            "hash": "f85c0ae1067a86ad6a96b144378883e79fd1516474b579ba33ee3a7084540002"
        }
    },
    "nbformat": 4,
    "nbformat_minor": 2
}