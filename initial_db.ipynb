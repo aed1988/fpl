{
 "cells": [
  {
   "cell_type": "code",
   "execution_count": 1,
   "metadata": {},
   "outputs": [],
   "source": [
    "import sqlite3"
   ]
  },
  {
   "cell_type": "code",
   "execution_count": 2,
   "metadata": {},
   "outputs": [],
   "source": [
    "connection = sqlite3.connect('fpl.db')"
   ]
  },
  {
   "cell_type": "code",
   "execution_count": 3,
   "metadata": {},
   "outputs": [],
   "source": [
    "cursor = connection.cursor()"
   ]
  },
  {
   "cell_type": "code",
   "execution_count": 4,
   "metadata": {},
   "outputs": [],
   "source": [
    "create_team_table = '''\n",
    "  CREATE TABLE team (\n",
    "    id INT PRIMARY KEY NOT NULL, \n",
    "    rapid_team_id INT UNIQUE NOT NULL,\n",
    "    fpl_team_id INT UNIQUE NOT NULL,\n",
    "    name STR UNIQUE NOT NULL,\n",
    "    stadium_id INT DEFAULT NULL,\n",
    "    stadium_name STR DEFAULT NULL,\n",
    "    created_date DATETIME DEFAULT CURRENT_TIMESTAMP,\n",
    "    updated_date DATETIME DEFAULT CURRENT_TIMESTAMP\n",
    "  );\n",
    "'''\n",
    "create_gameweek_table = '''\n",
    "  CREATE TABLE gameweek (\n",
    "    id INT PRIMARY KEY,\n",
    "    deadline TIMESTAMP,\n",
    "    year INT,\n",
    "    week_no INT\n",
    "  )\n",
    "'''\n",
    "\n",
    "create_fixtures_table = '''\n",
    "  CREATE TABLE fixtures (\n",
    "    id INT PRIMARY KEY,\n",
    "    home_team_id INT,\n",
    "    away_team_id INT,\n",
    "    fpl_gameweek INT,\n",
    "    rapid_fixture_id INT,\n",
    "    fpl_fixture_id INT\n",
    "  )\n",
    "'''\n",
    "\n",
    "create_player_table = '''\n",
    "  CREATE TABLE player (\n",
    "    id INT PRIMARY KEY,\n",
    "    fpl_id INT UNIQUE,\n",
    "    rapid_player_id INT UNIQUE,\n",
    "    team_id INT,\n",
    "    name VARCHAR,\n",
    "    fpl_position_no INT \n",
    "  )\n",
    "'''\n",
    "\n",
    "create_fpl_position_table = '''\n",
    "  CREATE TABLE fpl_position (\n",
    "    id INT PRIMARY KEY,\n",
    "    position_name VARCHAR UNIQUE\n",
    "  )\n",
    "'''\n",
    "\n",
    "create_fpl_points_table = '''\n",
    "  CREATE TABLE fpl_points (\n",
    "    id INT PRIMARY KEY,\n",
    "    year INT,\n",
    "    position INT,\n",
    "    less_than_sixty_mins INT,\n",
    "    more_than_sixty_mins INT,\n",
    "    cleansheet INT,\n",
    "    assist INT,\n",
    "    goal INT,\n",
    "    yellow_card INT,\n",
    "    red_card INT,\n",
    "    own_goal INT\n",
    "  )\n",
    "'''"
   ]
  },
  {
   "cell_type": "code",
   "execution_count": null,
   "metadata": {},
   "outputs": [],
   "source": [
    "manual_data_entries = {\n",
    "  \"fpl_position\": [{1, \"Goalkeeper\"}, {2, \"Defender\"}, {3, \"Midfielder\"}, {4, \"Attacker\"} ],\n",
    "  \"fpl_points\": [{\"year\": 2324, \"position\": 1, \"less_than_60_mins\": 0, \"more_than_sixty_mins\": 0, \"cleansheet\": 0, \"assist\": 0, \"goal\": 0, \"yellow_card\": 0, \"red_card\": 0, \"own_goal\": 0}]\n",
    "  \n",
    "}"
   ]
  },
  {
   "cell_type": "code",
   "execution_count": 4,
   "metadata": {},
   "outputs": [],
   "source": [
    "create_fpl_points_table = '''\n",
    "  CREATE TABLE fpl_points (\n",
    "    id INT PRIMARY KEY,\n",
    "    year INT,\n",
    "    position INT,\n",
    "    less_than_sixty_mins INT,\n",
    "    more_than_sixty_mins INT,\n",
    "    cleansheet INT,\n",
    "    assist INT,\n",
    "    goal INT,\n",
    "    yellow_card INT,\n",
    "    red_card INT,\n",
    "    own_goal INT\n",
    "  )\n",
    "'''\n",
    "manual_data_entries = {\n",
    "  \"fpl_position\": [{1, \"Goalkeeper\"}, {2, \"Defender\"}, {3, \"Midfielder\"}, {4, \"Attacker\"} ],\n",
    "  \"fpl_points\": {\n",
    "      \"default\": {\"less_than_60_mins\": 1, \"more_than_sixty_mins\": 2, \"assist\": 3, \"penalty_save\": 5, \"penalty_miss\": -2, \"one_bonus\": 1, \"two_bonus\": 2, \"three_bonus\": 3}, \"yellow_card\": -1, \"red_card\": -3, \"own_goal\": -2,\n",
    "      1: {\n",
    "        \"cleansheet\": 4, \"goal\": 6, \"three_saves\": 1, \"two_goals_conceded\": -1,\n",
    "        },\n",
    "      2: {\n",
    "        \"cleansheet\": 4, \"goal\": 6, \"three_saves\": 0, \"two_goals_conceded\": -1,\n",
    "        },\n",
    "      3: {\n",
    "        \"cleansheet\": 1, \"goal\": 5, \"three_saves\": 0, \"two_goals_conceded\": 0,\n",
    "        },\n",
    "      4: {\n",
    "        \"cleansheet\": 0, \"goal\": 4, \"three_saves\": 0, \"two_goals_conceded\": 0,\n",
    "        }\n",
    "      }\n",
    "    }"
   ]
  },
  {
   "cell_type": "code",
   "execution_count": 6,
   "metadata": {},
   "outputs": [
    {
     "data": {
      "text/plain": [
       "<sqlite3.Cursor at 0x10ff59740>"
      ]
     },
     "execution_count": 6,
     "metadata": {},
     "output_type": "execute_result"
    }
   ],
   "source": [
    "# cursor.execute(create_fpl_position_table)\n",
    "# cursor = connection.cursor()\n",
    "# cursor.execute('''INSERT INTO fpl_position VALUES (1, \"Goalkeeper\")''')\n",
    "# cursor.execute('''INSERT INTO fpl_position VALUES (2, \"Defense\")''')\n",
    "# cursor.execute('''INSERT INTO fpl_position VALUES (3, \"Midfield\")''')\n",
    "# cursor.execute('''INSERT INTO fpl_position VALUES (4, \"Attack\")''')"
   ]
  },
  {
   "cell_type": "code",
   "execution_count": 8,
   "metadata": {},
   "outputs": [],
   "source": [
    "connection.close()"
   ]
  }
 ],
 "metadata": {
  "kernelspec": {
   "display_name": "basic_env",
   "language": "python",
   "name": "python3"
  },
  "language_info": {
   "codemirror_mode": {
    "name": "ipython",
    "version": 3
   },
   "file_extension": ".py",
   "mimetype": "text/x-python",
   "name": "python",
   "nbconvert_exporter": "python",
   "pygments_lexer": "ipython3",
   "version": "3.11.4"
  },
  "orig_nbformat": 4
 },
 "nbformat": 4,
 "nbformat_minor": 2
}
