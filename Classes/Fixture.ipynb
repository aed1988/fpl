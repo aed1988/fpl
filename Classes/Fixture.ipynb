{
 "cells": [
  {
   "cell_type": "code",
   "execution_count": 30,
   "metadata": {},
   "outputs": [],
   "source": [
    "import os, sys\n",
    "\n",
    "\n",
    "currentdir = os.path.dirname(os.path.realpath('Fixture.ipynb'))\n",
    "parentdir = os.path.dirname(currentdir)\n",
    "sys.path.append(parentdir)\n",
    "\n",
    "import pandas as pd"
   ]
  },
  {
   "cell_type": "code",
   "execution_count": 106,
   "metadata": {},
   "outputs": [],
   "source": [
    "class Fixture():\n",
    "\n",
    "  def __init__(self, fixture_id):\n",
    "    self._id = fixture_id\n",
    "    self.kick_off_time = None\n",
    "    self.venue = None \n",
    "    self.home_team_id = None\n",
    "    self.away_team_id = None\n",
    "    self.home_team_score = None\n",
    "    self.away_team_score = None\n",
    "\n",
    "    self.get_fixture_info()\n",
    "\n",
    "  def get_fixture_info(self):\n",
    "    fixture_df = pd.read_csv('../csv/fixtures.csv').set_index('fixture_id')\n",
    "    fixture_series = fixture_df.loc[self._id]\n",
    "    self.kick_off_time = fixture_series.date\n",
    "    self.venue = fixture_series.venue\n",
    "    self.home_team_id = fixture_series.api_home_team_id\n",
    "    self.away_team_id = fixture_series.api_away_team_id\n",
    "    self.home_team_score = fixture_series.home_score\n",
    "    self.away_team_score = fixture_series.away_score\n",
    "    \n",
    "  \n",
    "  def get_venue(self):\n",
    "    return self.venue\n",
    "\n",
    "  def get_kickoff_time(self):\n",
    "    return self.kickoff_time\n",
    "\n"
   ]
  },
  {
   "cell_type": "code",
   "execution_count": 66,
   "metadata": {},
   "outputs": [],
   "source": [
    "# fixture_id = 710576\n",
    "# fixture_df = pd.read_csv('../csv/fixtures.csv').set_index('fixture_id')\n",
    "# fixture_series = fixture_df.loc[fixture_id]\n",
    "\n",
    "\n",
    "\n",
    "\n",
    "# fixture_series"
   ]
  },
  {
   "cell_type": "code",
   "execution_count": 107,
   "metadata": {},
   "outputs": [
    {
     "data": {
      "text/plain": [
       "495"
      ]
     },
     "execution_count": 107,
     "metadata": {},
     "output_type": "execute_result"
    }
   ],
   "source": [
    "fix = Fixture(710576)\n",
    "\n",
    "fix.venue"
   ]
  },
  {
   "cell_type": "code",
   "execution_count": null,
   "metadata": {},
   "outputs": [],
   "source": []
  }
 ],
 "metadata": {
  "interpreter": {
   "hash": "c30f2af5f468e7f5b45bcc30fca5f4886c90d54777aed916ed5f6294dfb24bf2"
  },
  "kernelspec": {
   "display_name": "Python 3.8.5 64-bit ('base': conda)",
   "language": "python",
   "name": "python3"
  },
  "language_info": {
   "codemirror_mode": {
    "name": "ipython",
    "version": 3
   },
   "file_extension": ".py",
   "mimetype": "text/x-python",
   "name": "python",
   "nbconvert_exporter": "python",
   "pygments_lexer": "ipython3",
   "version": "3.8.5"
  },
  "orig_nbformat": 4
 },
 "nbformat": 4,
 "nbformat_minor": 2
}
