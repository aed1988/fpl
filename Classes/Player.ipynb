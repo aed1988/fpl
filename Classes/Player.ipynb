{
 "cells": [
  {
   "cell_type": "code",
   "execution_count": 9,
   "source": [
    "import os, sys\n",
    "\n",
    "\n",
    "currentdir = os.path.dirname(os.path.realpath('Player.ipynb'))\n",
    "parentdir = os.path.dirname(currentdir)\n",
    "sys.path.append(parentdir)\n",
    "\n",
    "from utils.points import points\n",
    "from csv import "
   ],
   "outputs": [],
   "metadata": {}
  },
  {
   "cell_type": "code",
   "execution_count": 10,
   "source": [
    "class Player():\n",
    "  def __init__(self, id):\n",
    "    self.id = id\n",
    "\n",
    "\n",
    "  def get_info(self):\n",
    "    print(self.id)\n",
    "\n",
    "  def get_next_opponent(self):\n",
    "    pass\n",
    "\n",
    "  def get_next_opponent(self):\n",
    "    print('Watford')\n",
    "\n",
    "  def get_points(self):\n",
    "    print(self.points)\n",
    "\n",
    "\n",
    "\n",
    "\n",
    "class Goalkeeper(Player):\n",
    "  points = points['Goalkeeper']\n",
    "\n",
    "  \n",
    "class Defender(Player):\n",
    "  points = points['Defender']\n",
    "\n",
    "\n",
    "class Midfielder(Player):\n",
    "  points = points['Midfielder']\n",
    "\n",
    "\n",
    "class Attacker(Player):\n",
    "  points = points['Attacker']\n"
   ],
   "outputs": [],
   "metadata": {}
  },
  {
   "cell_type": "code",
   "execution_count": 11,
   "source": [
    "alison = Goalkeeper(1)\n",
    "alison.get_next_opponent()\n",
    "print(alison.points)\n"
   ],
   "outputs": [
    {
     "output_type": "stream",
     "name": "stdout",
     "text": [
      "Watford\n",
      "{'clean_sheet': 4, 'goal': 6, 'assist': 3, 'appearance': 1, 'more_than_sixty_minutes': 1, 'yellow_card': -1, 'red_card': -2, 'every_three_saves': 1, 'penalty_save': 5, 'penalty_miss': -2, 'every_two_goals_conceded': -1, 'own_goal': -2}\n"
     ]
    }
   ],
   "metadata": {}
  },
  {
   "cell_type": "code",
   "execution_count": 12,
   "source": [
    "TAA = Midfielder(91)\n",
    "TAA.get_info()\n",
    "TAA.get_points()"
   ],
   "outputs": [
    {
     "output_type": "stream",
     "name": "stdout",
     "text": [
      "91\n",
      "{'clean_sheet': 1, 'goal': 5, 'assist': 3, 'appearance': 1, 'more_than_sixty_minutes': 1, 'yellow_card': -1, 'red_card': -2, 'penalty_miss': -2, 'own_goal': -2}\n"
     ]
    }
   ],
   "metadata": {}
  },
  {
   "cell_type": "code",
   "execution_count": null,
   "source": [],
   "outputs": [],
   "metadata": {}
  }
 ],
 "metadata": {
  "orig_nbformat": 4,
  "language_info": {
   "name": "python",
   "version": "3.8.5",
   "mimetype": "text/x-python",
   "codemirror_mode": {
    "name": "ipython",
    "version": 3
   },
   "pygments_lexer": "ipython3",
   "nbconvert_exporter": "python",
   "file_extension": ".py"
  },
  "kernelspec": {
   "name": "python3",
   "display_name": "Python 3.8.5 64-bit ('base': conda)"
  },
  "interpreter": {
   "hash": "f85c0ae1067a86ad6a96b144378883e79fd1516474b579ba33ee3a7084540002"
  }
 },
 "nbformat": 4,
 "nbformat_minor": 2
}