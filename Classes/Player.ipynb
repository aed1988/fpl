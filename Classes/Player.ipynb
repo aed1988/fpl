{
 "cells": [
  {
   "cell_type": "code",
   "execution_count": 197,
   "source": [
    "import os, sys\n",
    "\n",
    "\n",
    "currentdir = os.path.dirname(os.path.realpath('Player.ipynb'))\n",
    "parentdir = os.path.dirname(currentdir)\n",
    "sys.path.append(parentdir)\n",
    "\n",
    "import pandas as pd\n",
    "\n",
    "from utils.points import points"
   ],
   "outputs": [],
   "metadata": {}
  },
  {
   "cell_type": "code",
   "execution_count": 198,
   "source": [
    "class Player():\n",
    "\n",
    "\n",
    "  def __init__(self, id):\n",
    "\n",
    "    self._id = id\n",
    "    self.first_name = self.load_df().loc[self._id]['first_name']\n",
    "    self.second_name = self.load_df().loc[self._id]['second_name']\n",
    "    self.team_name = self.load_df().loc[self._id]['team_name']\n",
    "\n",
    "\n",
    "  def get_first_name(self):\n",
    "    return self.first_name\n",
    "\n",
    "\n",
    "  def get_second_name(self):\n",
    "    return self.second_name\n",
    "\n",
    "\n",
    "  def get_team_name(self):\n",
    "    return self.team_name\n",
    "\n",
    "\n",
    "# To be implemented\n",
    "  def get_next_opponent(self):\n",
    "    pass\n",
    "  def get_stats(self):\n",
    "    pass\n",
    "\n",
    "\n",
    "# Will move to utils folder.  Need to fully combine data sources to provide accurate information.\n",
    "  def load_df(self):\n",
    "\n",
    "    player_df = pd.read_csv('../csv/pl_player_info.csv')\n",
    "    player_stats_df = pd.read_csv('../csv/pl_player_ingame_stats.csv')\n",
    "    team_df = pd.read_csv('../csv/team_info.csv')\n",
    "    first_df = player_df.merge(player_stats_df, on='id', how='left')\n",
    "    final_df = first_df.merge(team_df, left_on='team', right_on='id', how='left', suffixes=('','_team'))\n",
    "    final_df.rename(columns={'name': 'team_name', 'short_name':'team_short_name'}, inplace=True)\n",
    "    final_df.set_index('id', inplace=True)\n",
    "    final_df.sort_index(inplace=True)\n",
    "\n",
    "    return final_df\n",
    "\n",
    "\n",
    "\n",
    "\n",
    "# TBD: Allocate players by position and work towards a week-by-week break down of points and how they are scored.  API list total points only.\n",
    "class Goalkeeper(Player):\n",
    "  points = points['Goalkeeper']\n",
    "class Defender(Player):\n",
    "  points = points['Defender']\n",
    "class Midfielder(Player):\n",
    "  points = points['Midfielder']\n",
    "class Attacker(Player):\n",
    "  points = points['Attacker']\n"
   ],
   "outputs": [],
   "metadata": {}
  }
 ],
 "metadata": {
  "orig_nbformat": 4,
  "language_info": {
   "name": "python",
   "version": "3.8.5",
   "mimetype": "text/x-python",
   "codemirror_mode": {
    "name": "ipython",
    "version": 3
   },
   "pygments_lexer": "ipython3",
   "nbconvert_exporter": "python",
   "file_extension": ".py"
  },
  "kernelspec": {
   "name": "python3",
   "display_name": "Python 3.8.5 64-bit ('base': conda)"
  },
  "interpreter": {
   "hash": "f85c0ae1067a86ad6a96b144378883e79fd1516474b579ba33ee3a7084540002"
  }
 },
 "nbformat": 4,
 "nbformat_minor": 2
}