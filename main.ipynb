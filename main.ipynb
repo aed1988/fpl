{
 "cells": [
  {
   "cell_type": "code",
   "execution_count": 1,
   "metadata": {},
   "outputs": [],
   "source": [
    "import pandas as pd\n",
    "\n",
    "from Classes import Team, Fixture\n",
    "from definitions import CSV_DIR"
   ]
  },
  {
   "cell_type": "code",
   "execution_count": 2,
   "metadata": {},
   "outputs": [
    {
     "data": {
      "text/plain": [
       "40"
      ]
     },
     "execution_count": 2,
     "metadata": {},
     "output_type": "execute_result"
    }
   ],
   "source": [
    "liverpool = Team(11)\n",
    "liverpool.get_home_venue()\n",
    "liverpool._api_id"
   ]
  },
  {
   "cell_type": "code",
   "execution_count": 4,
   "metadata": {},
   "outputs": [
    {
     "name": "stdout",
     "output_type": "stream",
     "text": [
      "False\n",
      "Crystal Palace 1:3 Liverpool. KO: 2022-01-23 14:00:00.\n",
      "False\n",
      "Liverpool 3:0 Brentford. KO: 2022-01-16 14:00:00.\n",
      "False\n",
      "Chelsea 2:2 Liverpool. KO: 2022-01-02 16:30:00.\n",
      "False\n",
      "Leicester 1:0 Liverpool. KO: 2021-12-28 20:00:00.\n",
      "False\n",
      "Tottenham 2:2 Liverpool. KO: 2021-12-19 16:30:00.\n",
      "False\n",
      "Liverpool 3:1 Newcastle. KO: 2021-12-16 20:00:00.\n",
      "False\n",
      "Liverpool 1:0 Aston Villa. KO: 2021-12-11 15:00:00.\n",
      "False\n",
      "Wolves 0:1 Liverpool. KO: 2021-12-04 15:00:00.\n",
      "False\n",
      "Everton 1:4 Liverpool. KO: 2021-12-01 20:15:00.\n",
      "False\n",
      "Liverpool 4:0 Southampton. KO: 2021-11-27 15:00:00.\n"
     ]
    }
   ],
   "source": [
    "liverpool.get_prev_fixtures(10)"
   ]
  }
 ],
 "metadata": {
  "interpreter": {
   "hash": "c30f2af5f468e7f5b45bcc30fca5f4886c90d54777aed916ed5f6294dfb24bf2"
  },
  "kernelspec": {
   "display_name": "Python 3.9.5 64-bit ('base': conda)",
   "language": "python",
   "name": "python3"
  },
  "language_info": {
   "codemirror_mode": {
    "name": "ipython",
    "version": 3
   },
   "file_extension": ".py",
   "mimetype": "text/x-python",
   "name": "python",
   "nbconvert_exporter": "python",
   "pygments_lexer": "ipython3",
   "version": "3.9.5"
  },
  "orig_nbformat": 4
 },
 "nbformat": 4,
 "nbformat_minor": 2
}
